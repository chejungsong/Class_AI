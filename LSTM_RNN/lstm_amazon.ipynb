{
 "cells": [
  {
   "cell_type": "code",
   "execution_count": 2,
   "metadata": {},
   "outputs": [],
   "source": [
    "import tensorflow as tf\n",
    "import numpy as np\n",
    "import pandas as pd\n",
    "import datetime\n",
    "import matplotlib.pyplot as plt"
   ]
  },
  {
   "cell_type": "code",
   "execution_count": 3,
   "metadata": {},
   "outputs": [],
   "source": [
    "tf.set_random_seed(777)"
   ]
  },
  {
   "cell_type": "code",
   "execution_count": 4,
   "metadata": {},
   "outputs": [],
   "source": [
    "def data_standardization(x):\n",
    "    x_np=np.asarray(x)\n",
    "    return (x_np - x_np.mean())/x_np.std()\n",
    "def min_max_scaling(x):\n",
    "    x_np=np.asarray(x)\n",
    "    return (x_np - x_np.min())/(x_np.max()-x_np.min()+1e-7)\n",
    "def reverse_min_max_scaling(org_x,x):\n",
    "    org_x_np = np.asarray(org_x)\n",
    "    x_np = np.asarray(x)\n",
    "    return (x_np * (org_x_np.max() - org_x_np.min() + 1e-7)) + org_x_np.min()"
   ]
  },
  {
   "cell_type": "code",
   "execution_count": 5,
   "metadata": {},
   "outputs": [],
   "source": [
    "input_data_column_cnt = 6\n",
    "output_data_column_cnt = 1\n",
    "\n",
    "seq_length = 28\n",
    "rnn_cell_hidden_dim = 20\n",
    "forget_bias = 1.0\n",
    "num_stacked_layers = 1\n",
    "keep_prob = 1.0\n",
    "\n",
    "epoch_num = 1000\n",
    "learning_rate = 0.01"
   ]
  },
  {
   "cell_type": "code",
   "execution_count": 6,
   "metadata": {},
   "outputs": [
    {
     "name": "stdout",
     "output_type": "stream",
     "text": [
      "<class 'pandas.core.frame.DataFrame'>\n",
      "RangeIndex: 5179 entries, 0 to 5178\n",
      "Data columns (total 7 columns):\n",
      " #   Column     Non-Null Count  Dtype \n",
      "---  ------     --------------  ----- \n",
      " 0   Date       5179 non-null   object\n",
      " 1   Open       5179 non-null   object\n",
      " 2   High       5179 non-null   object\n",
      " 3   Low        5179 non-null   object\n",
      " 4   Close      5179 non-null   object\n",
      " 5   Adj Close  5179 non-null   object\n",
      " 6   Volume     5179 non-null   object\n",
      "dtypes: object(7)\n",
      "memory usage: 283.4+ KB\n"
     ]
    }
   ],
   "source": [
    "stock_file_name = 'C:\\\\Users\\\\USER\\\\datasets\\\\amazon\\\\AMZN.csv'\n",
    "#dir = \"C:\\\\Users\\\\USER\\\\datasets\\\\amazon\\\\\"\n",
    "encoding = 'eUc-kr'\n",
    "names = ['Date','Open','High','Low','Close','Adj Close','Volume']\n",
    "raw_dataframe = pd.read_csv(stock_file_name, names=names, encoding=encoding)\n",
    "raw_dataframe.info()"
   ]
  },
  {
   "cell_type": "code",
   "execution_count": 7,
   "metadata": {},
   "outputs": [],
   "source": [
    "del raw_dataframe['Date']"
   ]
  },
  {
   "cell_type": "code",
   "execution_count": 8,
   "metadata": {},
   "outputs": [
    {
     "name": "stdout",
     "output_type": "stream",
     "text": [
      "stock_info.shape:  (5178, 6)\n",
      "stock_info[0]: [2.437500e+00 2.500000e+00 1.927083e+00 1.958333e+00 1.958333e+00\n",
      " 7.215600e+07]\n"
     ]
    }
   ],
   "source": [
    "stock_info = raw_dataframe.values[1:].astype(np.float)\n",
    "print(\"stock_info.shape: \",stock_info.shape)\n",
    "print(\"stock_info[0]:\", stock_info[0])"
   ]
  },
  {
   "cell_type": "code",
   "execution_count": 9,
   "metadata": {},
   "outputs": [
    {
     "name": "stdout",
     "output_type": "stream",
     "text": [
      "price.shape:  (5178, 5)\n",
      "price[0]: [2.4375   2.5      1.927083 1.958333 1.958333]\n",
      "norm_price[0]: [0.00092814 0.00097971 0.00050704 0.00053282 0.00053282]\n",
      "====================================================================================================\n"
     ]
    }
   ],
   "source": [
    "price = stock_info[:,:-1]\n",
    "norm_price = min_max_scaling(price)\n",
    "print(\"price.shape: \", price.shape)\n",
    "print(\"price[0]:\", price[0])\n",
    "print(\"norm_price[0]:\", norm_price[0])\n",
    "print(\"=\"*100)"
   ]
  },
  {
   "cell_type": "code",
   "execution_count": 10,
   "metadata": {},
   "outputs": [
    {
     "name": "stdout",
     "output_type": "stream",
     "text": [
      "volume.shape: (5178, 1)\n",
      "volume[0]: [72156000.]\n",
      "norm_vloume[0]: [0.69017161]\n",
      "====================================================================================================\n"
     ]
    }
   ],
   "source": [
    "volume = stock_info[:,-1:]\n",
    "norm_volume = min_max_scaling(volume)\n",
    "print(\"volume.shape:\", volume.shape)\n",
    "print(\"volume[0]:\", volume[0])\n",
    "print(\"norm_vloume[0]:\", norm_volume[0])\n",
    "print(\"=\"*100)"
   ]
  },
  {
   "cell_type": "code",
   "execution_count": 11,
   "metadata": {},
   "outputs": [
    {
     "name": "stdout",
     "output_type": "stream",
     "text": [
      "x.shape:  (5178, 6)\n",
      "x[0]: [9.28143131e-04 9.79706638e-04 5.07040880e-04 5.32822633e-04\n",
      " 5.32822633e-04 6.90171607e-01]\n",
      "x[-1]: [0.96451605 0.96645482 0.95354329 0.95758589 0.95758589 0.02142033]\n",
      "====================================================================================================\n"
     ]
    }
   ],
   "source": [
    "x = np.concatenate((norm_price, norm_volume), axis=1)\n",
    "print(\"x.shape: \", x.shape)\n",
    "print(\"x[0]:\", x[0])\n",
    "print(\"x[-1]:\", x[-1])\n",
    "print(\"=\"*100)"
   ]
  },
  {
   "cell_type": "code",
   "execution_count": 12,
   "metadata": {},
   "outputs": [
    {
     "name": "stdout",
     "output_type": "stream",
     "text": [
      "y[0]:  [0.00053282]\n",
      "y[-1]:  [0.95758589]\n"
     ]
    }
   ],
   "source": [
    "y =x[:, [-2]]\n",
    "print(\"y[0]: \", y[0])\n",
    "print(\"y[-1]: \", y[-1])"
   ]
  },
  {
   "cell_type": "code",
   "execution_count": 13,
   "metadata": {},
   "outputs": [
    {
     "name": "stdout",
     "output_type": "stream",
     "text": [
      "[[9.28143131e-04 9.79706638e-04 5.07040880e-04 5.32822633e-04\n",
      "  5.32822633e-04 6.90171607e-01]\n",
      " [5.41416826e-04 5.50011019e-04 3.26568604e-04 3.43756990e-04\n",
      "  3.43756990e-04 1.36869475e-01]\n",
      " [3.69538744e-04 3.78132112e-04 2.57817536e-04 3.26568604e-04\n",
      "  3.26568604e-04 5.41168313e-02]\n",
      " [3.43756990e-04 3.60944551e-04 2.66411729e-04 2.66411729e-04\n",
      "  2.66411729e-04 4.79574739e-02]\n",
      " [2.66411729e-04 2.75005097e-04 5.15635073e-05 9.45328216e-05\n",
      "  9.45328216e-05 1.76864852e-01]\n",
      " [1.03127015e-04 1.11721207e-04 0.00000000e+00 6.87510680e-05\n",
      "  6.87510680e-05 1.08719015e-01]\n",
      " [7.73452609e-05 1.71878083e-04 1.71875607e-05 1.54690522e-04\n",
      "  1.54690522e-04 1.48783729e-01]\n",
      " [1.63284715e-04 2.75005097e-04 1.20314575e-04 2.23441590e-04\n",
      "  2.23441590e-04 7.90662738e-02]\n",
      " [2.57817536e-04 2.66411729e-04 1.80472275e-04 1.80472275e-04\n",
      "  1.80472275e-04 3.93597966e-02]\n",
      " [1.89066468e-04 1.89066468e-04 1.37502961e-04 1.58987206e-04\n",
      "  1.58987206e-04 2.87513723e-02]\n",
      " [1.54690522e-04 1.63284715e-04 1.37502961e-04 1.54690522e-04\n",
      "  1.54690522e-04 2.02923673e-02]\n",
      " [1.63284715e-04 1.80472275e-04 1.54690522e-04 1.63284715e-04\n",
      "  1.63284715e-04 1.00537355e-03]\n",
      " [1.80472275e-04 1.80472275e-04 1.37502961e-04 1.37502961e-04\n",
      "  1.37502961e-04 6.70249032e-03]\n",
      " [1.37502961e-04 1.46096329e-04 6.87510680e-05 8.59394538e-05\n",
      "  8.59394538e-05 2.49725545e-02]\n",
      " [8.59394538e-05 1.89066468e-04 5.15635073e-05 1.89066468e-04\n",
      "  1.89066468e-04 4.99335529e-02]\n",
      " [1.67581399e-04 3.26568604e-04 1.63284715e-04 2.83599290e-04\n",
      "  2.83599290e-04 7.04917086e-02]\n",
      " [2.83599290e-04 3.26568604e-04 2.83599290e-04 3.09381044e-04\n",
      "  3.09381044e-04 1.79580517e-02]\n",
      " [3.26568604e-04 3.26568604e-04 1.80472275e-04 2.23441590e-04\n",
      "  2.23441590e-04 4.78765817e-02]\n",
      " [2.32035783e-04 2.40629976e-04 1.80472275e-04 1.89066468e-04\n",
      "  1.89066468e-04 6.74871439e-03]\n",
      " [2.23441590e-04 2.75005097e-04 1.97659836e-04 2.40629976e-04\n",
      "  2.40629976e-04 1.10244410e-02]\n",
      " [2.57817536e-04 2.57817536e-04 2.23441590e-04 2.23441590e-04\n",
      "  2.23441590e-04 1.98763506e-03]\n",
      " [2.40629976e-04 2.40629976e-04 2.06254029e-04 2.14848222e-04\n",
      "  2.14848222e-04 4.10238632e-03]\n",
      " [2.36332467e-04 2.36332467e-04 1.50393838e-04 1.58987206e-04\n",
      "  1.58987206e-04 4.06309586e-02]\n",
      " [1.71878083e-04 1.84768959e-04 1.54690522e-04 1.63284715e-04\n",
      "  1.63284715e-04 1.90443173e-02]\n",
      " [1.63284715e-04 1.80472275e-04 1.54690522e-04 1.63284715e-04\n",
      "  1.63284715e-04 4.96908765e-03]\n",
      " [1.80472275e-04 1.97659836e-04 1.54690522e-04 1.76175591e-04\n",
      "  1.76175591e-04 2.79308950e-02]\n",
      " [1.89066468e-04 1.89066468e-04 1.37502961e-04 1.54690522e-04\n",
      "  1.54690522e-04 5.39666031e-03]\n",
      " [1.58987206e-04 1.76175591e-04 1.37502961e-04 1.63284715e-04\n",
      "  1.63284715e-04 2.54232392e-03]] -> [0.00016328]\n"
     ]
    }
   ],
   "source": [
    "dataX = []\n",
    "dataY = []\n",
    "for i in range(0, len(y)-seq_length):\n",
    "    _x = x[i : i+seq_length]\n",
    "    _y = y[i + seq_length]\n",
    "    if i is 0:\n",
    "        print(_x, \"->\", _y)\n",
    "    dataX.append(_x)\n",
    "    dataY.append(_y)"
   ]
  },
  {
   "cell_type": "code",
   "execution_count": 14,
   "metadata": {},
   "outputs": [],
   "source": [
    "train_size = int(len(dataY)*0.7)\n",
    "test_size = len(dataY) - train_size"
   ]
  },
  {
   "cell_type": "code",
   "execution_count": 15,
   "metadata": {},
   "outputs": [],
   "source": [
    "trainX = np.array(dataX[0:train_size])\n",
    "trainY = np.array(dataY[0:train_size])"
   ]
  },
  {
   "cell_type": "code",
   "execution_count": 16,
   "metadata": {},
   "outputs": [],
   "source": [
    "testX = np.array(dataX[train_size:len(dataX)])\n",
    "testY = np.array(dataY[train_size:len(dataY)])"
   ]
  },
  {
   "cell_type": "code",
   "execution_count": 17,
   "metadata": {},
   "outputs": [
    {
     "name": "stdout",
     "output_type": "stream",
     "text": [
      "X: Tensor(\"Placeholder:0\", shape=(?, 28, 6), dtype=float32)\n",
      "Y: Tensor(\"Placeholder_1:0\", shape=(?, 1), dtype=float32)\n"
     ]
    }
   ],
   "source": [
    "X = tf.placeholder(tf.float32, [None, seq_length, input_data_column_cnt])\n",
    "print(\"X:\",X)\n",
    "Y = tf.placeholder(tf.float32, [None,1])\n",
    "print(\"Y:\",Y)"
   ]
  },
  {
   "cell_type": "code",
   "execution_count": 20,
   "metadata": {},
   "outputs": [
    {
     "name": "stdout",
     "output_type": "stream",
     "text": [
      "targets:  Tensor(\"Placeholder_6:0\", shape=(?, 1), dtype=float32)\n",
      "predictions:  Tensor(\"Placeholder_7:0\", shape=(?, 1), dtype=float32)\n"
     ]
    }
   ],
   "source": [
    "targets = tf.placeholder(tf.float32, [None,1])\n",
    "print(\"targets: \", targets)\n",
    "predictions = tf.placeholder(tf.float32, [None, 1])\n",
    "print(\"predictions: \", predictions)"
   ]
  },
  {
   "cell_type": "code",
   "execution_count": 21,
   "metadata": {},
   "outputs": [],
   "source": [
    "def lstm_cell():\n",
    "    cell = tf.contrib.rnn.BasicLSTMCell(num_units=rnn_cell_hidden_dim,\n",
    "                                       forget_bias=forget_bias, state_is_tuple=True, activation=tf.nn.softsign)\n",
    "    if keep_prob < 1.0:\n",
    "        cell = tf.contrib.rnn.DropoutWrapper(cell, output_keep_prob=keep_prob)\n",
    "    return cell"
   ]
  },
  {
   "cell_type": "code",
   "execution_count": 23,
   "metadata": {},
   "outputs": [],
   "source": [
    "stackedRNNs = [lstm_cell() for _ in range(num_stacked_layers)]\n",
    "multi_cells = tf.contrib.rnn.MultiRNNCell(stackedRNNs, state_is_tuple=True) if num_stacked_layers > 1 else lstm_cell()"
   ]
  },
  {
   "cell_type": "code",
   "execution_count": 25,
   "metadata": {},
   "outputs": [
    {
     "name": "stdout",
     "output_type": "stream",
     "text": [
      "hypothesis: Tensor(\"rnn_1/transpose_1:0\", shape=(?, 28, 20), dtype=float32)\n"
     ]
    }
   ],
   "source": [
    "hypothesis, _state = tf.nn.dynamic_rnn(multi_cells, X, dtype=tf.float32)\n",
    "print(\"hypothesis:\", hypothesis)"
   ]
  },
  {
   "cell_type": "code",
   "execution_count": 26,
   "metadata": {},
   "outputs": [],
   "source": [
    "hypothesis = tf.contrib.layers.fully_connected(hypothesis[:,-1], output_data_column_cnt, activation_fn=tf.identity)"
   ]
  },
  {
   "cell_type": "code",
   "execution_count": 27,
   "metadata": {},
   "outputs": [],
   "source": [
    "loss = tf.reduce_sum(tf.square(hypothesis -Y))\n",
    "optimizer = tf.train.AdamOptimizer(learning_rate)\n",
    "train = optimizer.minimize(loss)\n",
    "\n",
    "rmse = tf.sqrt(tf.reduce_mean(tf.squared_difference(targets, predictions)))"
   ]
  },
  {
   "cell_type": "code",
   "execution_count": 28,
   "metadata": {},
   "outputs": [],
   "source": [
    "train_error_summary = []\n",
    "test_error_summary = []\n",
    "test_predict = \"\"\n",
    "\n",
    "sess = tf.Session()\n",
    "sess.run(tf.global_variables_initializer())"
   ]
  },
  {
   "cell_type": "code",
   "execution_count": 39,
   "metadata": {},
   "outputs": [
    {
     "name": "stdout",
     "output_type": "stream",
     "text": [
      "학습을 시작합니다!\n",
      "epoch: 100, train_error(A): 0.0020631072111427784, test_error(B): 0.018144121393561363, B-A: 0.016081014648079872\n",
      "epoch: 200, train_error(A): 0.0020381228532642126, test_error(B): 0.018957434222102165, B-A: 0.01691931113600731\n",
      "epoch: 300, train_error(A): 0.0020155422389507294, test_error(B): 0.020222214981913567, B-A: 0.018206672742962837\n",
      "epoch: 400, train_error(A): 0.0019953029695898294, test_error(B): 0.02177596278488636, B-A: 0.019780660048127174\n",
      "epoch: 500, train_error(A): 0.0020605477038770914, test_error(B): 0.020070841535925865, B-A: 0.018010294064879417\n",
      "epoch: 600, train_error(A): 0.0020098385866731405, test_error(B): 0.018464647233486176, B-A: 0.01645480841398239\n",
      "epoch: 700, train_error(A): 0.001990819815546274, test_error(B): 0.018229838460683823, B-A: 0.016239019110798836\n",
      "epoch: 800, train_error(A): 0.001977162668481469, test_error(B): 0.01825532875955105, B-A: 0.016278166323900223\n",
      "epoch: 900, train_error(A): 0.0019665255676954985, test_error(B): 0.018587149679660797, B-A: 0.01662062481045723\n",
      "epoch: 1000, train_error(A): 0.001958128996193409, test_error(B): 0.01912609674036503, B-A: 0.017167966812849045\n"
     ]
    }
   ],
   "source": [
    "start_time = datetime.datetime.now()\n",
    "print('학습을 시작합니다!')\n",
    "for epoch in range(epoch_num):\n",
    "    _, _loss = sess.run([train, loss], feed_dict={X: trainX, Y: trainY})\n",
    "    if ((epoch+1) % 100 == 0) or (epoch == epoch_num-1):\n",
    "        train_predict = sess.run(hypothesis, feed_dict={X: trainX})\n",
    "        train_error = sess.run(rmse, feed_dict={targets: trainY, predictions: train_predict})\n",
    "        train_error_summary.append(train_error)\n",
    " \n",
    "        test_predict = sess.run(hypothesis, feed_dict={X: testX})\n",
    "        test_error = sess.run(rmse, feed_dict={targets: testY, predictions: test_predict})\n",
    "        test_error_summary.append(test_error)\n",
    "        \n",
    "        print(\"epoch: {}, train_error(A): {}, test_error(B): {}, B-A: {}\".format(epoch+1, train_error, test_error, test_error-train_error))"
   ]
  },
  {
   "cell_type": "code",
   "execution_count": 41,
   "metadata": {},
   "outputs": [
    {
     "name": "stdout",
     "output_type": "stream",
     "text": [
      "elapsed_time: 0:05:53.381286\n",
      "elspsed_time per epoch 0:00:00.353381\n"
     ]
    }
   ],
   "source": [
    "end_time = datetime.datetime.now()\n",
    "elapsed_time = end_time - start_time\n",
    "print('elapsed_time:', elapsed_time)\n",
    "print('elspsed_time per epoch', elapsed_time/epoch_num)"
   ]
  },
  {
   "cell_type": "code",
   "execution_count": 45,
   "metadata": {},
   "outputs": [
    {
     "name": "stdout",
     "output_type": "stream",
     "text": [
      "input_data_column_cnt: 6\n",
      "output_data_cloumn_cnt: 1\n",
      "seq_length: 28\n",
      "rnn_cell_hidden_dim: 20\n",
      "forget_bias: 1.0\n",
      "num_stacked_layers: 1\n",
      "keep_prob: 1.0\n",
      "epoch_num: 1000\n",
      "learning_rete: 0.01\n",
      "train_error: 0.001958129\n",
      "test_error: 0.019126097\n",
      "min_test_error: 0.009717155\n"
     ]
    }
   ],
   "source": [
    "print('input_data_column_cnt:', input_data_column_cnt)\n",
    "print('output_data_cloumn_cnt:',output_data_column_cnt)\n",
    "\n",
    "print('seq_length:',seq_length)\n",
    "print('rnn_cell_hidden_dim:',rnn_cell_hidden_dim)\n",
    "print('forget_bias:',forget_bias)\n",
    "print('num_stacked_layers:', num_stacked_layers)\n",
    "print('keep_prob:', keep_prob)\n",
    "\n",
    "print('epoch_num:', epoch_num)\n",
    "print('learning_rete:', learning_rate)\n",
    "\n",
    "print('train_error:', train_error_summary[-1])\n",
    "print('test_error:', test_error_summary[-1])\n",
    "print('min_test_error:', np.min(test_error_summary))"
   ]
  },
  {
   "cell_type": "code",
   "execution_count": 46,
   "metadata": {},
   "outputs": [
    {
     "data": {
      "image/png": "[encoded data removed]",
      "text/plain": [
       "<Figure size 432x288 with 1 Axes>"
      ]
     },
     "metadata": {
      "needs_background": "light"
     },
     "output_type": "display_data"
    },
    {
     "data": {
      "image/png": "[encoded data removed]",
      "text/plain": [
       "<Figure size 432x288 with 1 Axes>"
      ]
     },
     "metadata": {
      "needs_background": "light"
     },
     "output_type": "display_data"
    }
   ],
   "source": [
    "plt.figure(1)\n",
    "plt.plot(train_error_summary, 'gold')\n",
    "plt.plot(test_error_summary, 'b')\n",
    "plt.xlabel('Epoch(x100)')\n",
    "plt.ylabel('Root Mean Square Error')\n",
    "\n",
    "plt.figure(2)\n",
    "plt.plot(testY, 'r')\n",
    "plt.plot(test_predict, 'b')\n",
    "plt.xlabel('Time Period')\n",
    "plt.ylabel(\"Stock Price\")\n",
    "plt.show()"
   ]
  },
  {
   "cell_type": "code",
   "execution_count": 47,
   "metadata": {},
   "outputs": [
    {
     "name": "stdout",
     "output_type": "stream",
     "text": [
      "recent_data.shape: (1, 28, 6)\n",
      "recent_data: [[[0.91386004 0.9151306  0.90735891 0.910791   0.910791   0.02879182]\n",
      "  [0.91089    0.91383526 0.90374533 0.909471   0.909471   0.03147378]\n",
      "  [0.90462816 0.90803538 0.89560243 0.90166628 0.90166628 0.0307939 ]\n",
      "  [0.89913352 0.91689614 0.89696373 0.91600506 0.91600506 0.03143526]\n",
      "  [0.91398381 0.92739858 0.9136703  0.92347976 0.92347976 0.0278683 ]\n",
      "  [0.92684578 0.93168037 0.92087268 0.92555055 0.92555055 0.02120337]\n",
      "  [0.92526172 0.935756   0.92220094 0.93356143 0.93356143 0.02016814]\n",
      "  [0.92785228 0.93087187 0.91944541 0.93046762 0.93046762 0.03125421]\n",
      "  [0.92796779 0.93262916 0.92628483 0.92734903 0.92734903 0.01630073]\n",
      "  [0.92541026 0.93935306 0.92486573 0.93050065 0.93050065 0.02341249]\n",
      "  [0.93127612 0.93778551 0.92614454 0.93682846 0.93682846 0.0255311 ]\n",
      "  [0.92871859 0.93262916 0.92428    0.92845453 0.92845453 0.0331417 ]\n",
      "  [0.93131741 0.93791754 0.93122667 0.93719978 0.93719978 0.01662237]\n",
      "  [0.93801653 0.93844556 0.92772861 0.93108638 0.93108638 0.01854933]\n",
      "  [0.93099564 0.93400697 0.92503905 0.92814112 0.92814112 0.01614665]\n",
      "  [0.93354491 0.93943554 0.92970031 0.93901477 0.93901477 0.01918492]\n",
      "  [0.94026055 0.95615863 0.94026055 0.95276783 0.95276783 0.02954585]\n",
      "  [0.95651333 0.97807927 0.95651333 0.97738628 0.97738628 0.02928295]\n",
      "  [0.99113108 1.         0.98163513 0.98549615 0.98549615 0.06025308]\n",
      "  [0.99296259 0.99334206 0.97946534 0.98365638 0.98365638 0.03921535]\n",
      "  [0.98464646 0.98464646 0.94371732 0.95698365 0.95698365 0.08445812]\n",
      "  [0.96179346 0.97125637 0.95593586 0.96975488 0.96975488 0.03873192]\n",
      "  [0.96587735 0.97214745 0.94933573 0.95787463 0.95787463 0.03485969]\n",
      "  [0.96736231 0.96847607 0.92953535 0.93444415 0.93444415 0.05243254]\n",
      "  [0.92974986 0.95533362 0.92684578 0.94073077 0.94073077 0.03459679]\n",
      "  [0.93777725 0.95254506 0.93620144 0.94962447 0.94962447 0.02278558]\n",
      "  [0.95312253 0.95856761 0.94851072 0.95576264 0.95576264 0.01946804]\n",
      "  [0.96451605 0.96645482 0.95354329 0.95758589 0.95758589 0.02142033]]]\n",
      "test_predict, test_predict[0]\n",
      "Tomorrow's stock price [1092.8197]\n"
     ]
    }
   ],
   "source": [
    "recent_data = np.array([x[len(x)-seq_length :]])\n",
    "print(\"recent_data.shape:\", recent_data.shape)\n",
    "print(\"recent_data:\", recent_data)\n",
    "\n",
    "test_predict = sess.run(hypothesis, feed_dict={X:recent_data})\n",
    "\n",
    "print(\"test_predict, test_predict[0]\")\n",
    "test_predict = reverse_min_max_scaling(price,test_predict)\n",
    "print(\"Tomorrow's stock price\", test_predict[0])"
   ]
  }
 ],
 "metadata": {
  "kernelspec": {
   "display_name": "test_gpu",
   "language": "python",
   "name": "test_gpu"
  },
  "language_info": {
   "codemirror_mode": {
    "name": "ipython",
    "version": 3
   },
   "file_extension": ".py",
   "mimetype": "text/x-python",
   "name": "python",
   "nbconvert_exporter": "python",
   "pygments_lexer": "ipython3",
   "version": "3.6.10"
  }
 },
 "nbformat": 4,
 "nbformat_minor": 4
}
